{
 "cells": [
  {
   "cell_type": "code",
   "execution_count": 1,
   "id": "980f890d-7f62-49a1-86da-5c6e7f029748",
   "metadata": {},
   "outputs": [
    {
     "name": "stderr",
     "output_type": "stream",
     "text": [
      "C:\\Users\\DELL\\AppData\\Local\\Temp\\ipykernel_11204\\3776833915.py:2: DeprecationWarning: \n",
      "Pyarrow will become a required dependency of pandas in the next major release of pandas (pandas 3.0),\n",
      "(to allow more performant data types, such as the Arrow string type, and better interoperability with other libraries)\n",
      "but was not found to be installed on your system.\n",
      "If this would cause problems for you,\n",
      "please provide us feedback at https://github.com/pandas-dev/pandas/issues/54466\n",
      "        \n",
      "  import pandas as pd\n"
     ]
    }
   ],
   "source": [
    "import numpy as np\n",
    "import pandas as pd\n",
    "from scipy.stats import norm\n",
    "import seaborn as sns\n",
    "import matplotlib.pyplot as plt\n",
    "import matplotlib.patches\n",
    "import warnings\n",
    "warnings.filterwarnings('ignore')\n",
    "import os"
   ]
  },
  {
   "cell_type": "code",
   "execution_count": 2,
   "id": "181301b5-7e11-4517-9756-08475dcc0b05",
   "metadata": {},
   "outputs": [
    {
     "ename": "FileNotFoundError",
     "evalue": "[WinError 3] The system cannot find the path specified: 'C:\\\\Users\\\\HP\\\\Desktop\\\\my work'",
     "output_type": "error",
     "traceback": [
      "\u001b[1;31m---------------------------------------------------------------------------\u001b[0m",
      "\u001b[1;31mFileNotFoundError\u001b[0m                         Traceback (most recent call last)",
      "Cell \u001b[1;32mIn[2], line 1\u001b[0m\n\u001b[1;32m----> 1\u001b[0m \u001b[43mos\u001b[49m\u001b[38;5;241;43m.\u001b[39;49m\u001b[43mchdir\u001b[49m\u001b[43m(\u001b[49m\u001b[38;5;124;43m\"\u001b[39;49m\u001b[38;5;124;43mC:\u001b[39;49m\u001b[38;5;130;43;01m\\\\\u001b[39;49;00m\u001b[38;5;124;43mUsers\u001b[39;49m\u001b[38;5;130;43;01m\\\\\u001b[39;49;00m\u001b[38;5;124;43mHP\u001b[39;49m\u001b[38;5;130;43;01m\\\\\u001b[39;49;00m\u001b[38;5;124;43mDesktop\u001b[39;49m\u001b[38;5;130;43;01m\\\\\u001b[39;49;00m\u001b[38;5;124;43mmy work\u001b[39;49m\u001b[38;5;124;43m\"\u001b[39;49m\u001b[43m)\u001b[49m\n",
      "\u001b[1;31mFileNotFoundError\u001b[0m: [WinError 3] The system cannot find the path specified: 'C:\\\\Users\\\\HP\\\\Desktop\\\\my work'"
     ]
    }
   ],
   "source": [
    "os.chdir(\"C:\\\\Users\\\\HP\\\\Desktop\\\\my work\")"
   ]
  },
  {
   "cell_type": "raw",
   "id": "644a8825-788c-4215-9e0b-779f0d036cb9",
   "metadata": {},
   "source": [
    "Ho: Pcon = Pexp\n",
    "H1: Pcon ≠ Pexp\n"
   ]
  },
  {
   "cell_type": "code",
   "execution_count": 3,
   "id": "c220535d-8211-4a20-b2d5-fae226b4d55c",
   "metadata": {},
   "outputs": [
    {
     "name": "stdout",
     "output_type": "stream",
     "text": [
      "            user_id         click\n",
      "count  20000.000000  20000.000000\n",
      "mean   10000.500000      0.405250\n",
      "std     5773.647028      0.490953\n",
      "min        1.000000      0.000000\n",
      "25%     5000.750000      0.000000\n",
      "50%    10000.500000      0.000000\n",
      "75%    15000.250000      1.000000\n",
      "max    20000.000000      1.000000\n"
     ]
    }
   ],
   "source": [
    "df = pd.read_csv(\"ab_test_click_data (1).csv\")\n",
    "df= df.drop(\"timestamp\", axis=1)\n",
    "print(df.describe())"
   ]
  },
  {
   "cell_type": "code",
   "execution_count": 29,
   "id": "e6a88520-97ff-4933-9b07-4a50eec499c4",
   "metadata": {},
   "outputs": [
    {
     "name": "stdout",
     "output_type": "stream",
     "text": [
      "   click  count\n",
      "0      0  11895\n",
      "1      1   8105\n",
      "   user_id  click group\n",
      "0        1      1   exp\n",
      "1        2      0   exp\n",
      "2        3      1   exp\n",
      "3        4      0   exp\n",
      "4        5      1   exp\n",
      "  group  click\n",
      "0   con   1989\n",
      "1   exp   6116\n"
     ]
    }
   ],
   "source": [
    "print(df['click'].value_counts().reset_index())\n",
    "print(df.head())\n",
    "# click by group\n",
    "print(df.groupby('group')['click'].sum().reset_index())"
   ]
  },
  {
   "cell_type": "markdown",
   "id": "96b128d6-2839-4375-ac4a-21f3d7c5b61c",
   "metadata": {},
   "source": [
    "A simple bar chart showing the total click versus no-clicks in each group"
   ]
  },
  {
   "cell_type": "code",
   "execution_count": 1,
   "id": "ee971aed-49fd-4886-a1b4-5ceca276b7bb",
   "metadata": {},
   "outputs": [
    {
     "ename": "NameError",
     "evalue": "name 'plt' is not defined",
     "output_type": "error",
     "traceback": [
      "\u001b[1;31m---------------------------------------------------------------------------\u001b[0m",
      "\u001b[1;31mNameError\u001b[0m                                 Traceback (most recent call last)",
      "Cell \u001b[1;32mIn[1], line 3\u001b[0m\n\u001b[0;32m      1\u001b[0m palette \u001b[38;5;241m=\u001b[39m {\u001b[38;5;241m0\u001b[39m:\u001b[38;5;124m'\u001b[39m\u001b[38;5;124mgreen\u001b[39m\u001b[38;5;124m'\u001b[39m, \u001b[38;5;241m1\u001b[39m:\u001b[38;5;124m'\u001b[39m\u001b[38;5;124mblack\u001b[39m\u001b[38;5;124m'\u001b[39m}\n\u001b[0;32m      2\u001b[0m labels\u001b[38;5;241m=\u001b[39m[\u001b[38;5;124m'\u001b[39m\u001b[38;5;124myes\u001b[39m\u001b[38;5;124m'\u001b[39m, \u001b[38;5;124m'\u001b[39m\u001b[38;5;124mno\u001b[39m\u001b[38;5;124m'\u001b[39m]\n\u001b[1;32m----> 3\u001b[0m \u001b[43mplt\u001b[49m\u001b[38;5;241m.\u001b[39mfigure(figsize\u001b[38;5;241m=\u001b[39m[\u001b[38;5;241m10\u001b[39m,\u001b[38;5;241m10\u001b[39m])\n\u001b[0;32m      4\u001b[0m ax \u001b[38;5;241m=\u001b[39m sns\u001b[38;5;241m.\u001b[39mcatplot(data\u001b[38;5;241m=\u001b[39mdf, x\u001b[38;5;241m=\u001b[39m\u001b[38;5;124m'\u001b[39m\u001b[38;5;124mgroup\u001b[39m\u001b[38;5;124m'\u001b[39m, kind\u001b[38;5;241m=\u001b[39m\u001b[38;5;124m'\u001b[39m\u001b[38;5;124mcount\u001b[39m\u001b[38;5;124m'\u001b[39m, hue\u001b[38;5;241m=\u001b[39m\u001b[38;5;124m'\u001b[39m\u001b[38;5;124mclick\u001b[39m\u001b[38;5;124m'\u001b[39m,\n\u001b[0;32m      5\u001b[0m                 palette\u001b[38;5;241m=\u001b[39mpalette)\n\u001b[0;32m      6\u001b[0m plt\u001b[38;5;241m.\u001b[39mtitle(\u001b[38;5;124m'\u001b[39m\u001b[38;5;124mClick Distribution in Experimental and Control Groups\u001b[39m\u001b[38;5;124m'\u001b[39m)\n",
      "\u001b[1;31mNameError\u001b[0m: name 'plt' is not defined"
     ]
    }
   ],
   "source": [
    "\n",
    "palette = {0:'green', 1:'black'}\n",
    "labels=['yes', 'no']\n",
    "plt.figure(figsize=[10,10])\n",
    "ax = sns.catplot(data=df, x='group', kind='count', hue='click',\n",
    "                palette=palette)\n",
    "plt.title('Click Distribution in Experimental and Control Groups')\n",
    "plt.legend(title='click', labels=['no', 'yes'])\n",
    "\n",
    "#calcuating percantages and annotate the bars\n",
    "group_counts = df.groupby(['group']).size()\n",
    "group_click_counts = df.groupby(['group','click']).size().reset_index(name='count')\n",
    "\n",
    "for p in ax.patches:\n",
    "    height = p.get_height()\n",
    "    #find the group and click type for the current bar\n",
    "    group = 'exp' if p.get_x() < 0.5 else 'con'\n",
    "    click = 1 if p.get_x() % 1 > 0.5 else 0\n",
    "    total = group_counts.loc['group']\n",
    "    percentage = 100*height / total \n",
    "    ax.text(p.get_x() + p.get_width() / 2., height + 5, f'{percentage:.1f}%', ha='center', color='black', fontsize=10)\n",
    "\n",
    "plt.tight_layout()\n",
    "plt.show()"
   ]
  },
  {
   "cell_type": "code",
   "execution_count": 40,
   "id": "45606c7b-887b-4dc2-8523-f0028a60868e",
   "metadata": {},
   "outputs": [
    {
     "name": "stdout",
     "output_type": "stream",
     "text": [
      "  group  click     0\n",
      "0   con      0  8011\n",
      "1   con      1  1989\n",
      "2   exp      0  3884\n",
      "3   exp      1  6116\n"
     ]
    }
   ],
   "source": [
    "print(group_click_counts)"
   ]
  },
  {
   "cell_type": "markdown",
   "id": "78958191-dfbc-4b1c-89ee-88d5671bb16f",
   "metadata": {},
   "source": [
    "##### Parameters of the Model from power analysis\n",
    "    - β: probability of type II error\n",
    "    - (1-β): power of the test\n",
    "    - α: probability of type I error <significance level> we want to compare our p-value to.\n",
    "    - δ: Minimum detectable effect\n",
    "    "
   ]
  },
  {
   "cell_type": "code",
   "execution_count": 80,
   "id": "3ec90016-2bdb-467b-87f0-b076e65ac909",
   "metadata": {},
   "outputs": [],
   "source": [
    "alpha = 0.05\n",
    "delta = 0.1"
   ]
  },
  {
   "cell_type": "markdown",
   "id": "814747a9-effe-4ea2-9bb5-c42d89446624",
   "metadata": {},
   "source": [
    "##### Calculating total number of clicks per group by summing clicks"
   ]
  },
  {
   "cell_type": "code",
   "execution_count": 72,
   "id": "940536a5-4a3f-45ea-a938-e1714c3dde2e",
   "metadata": {},
   "outputs": [
    {
     "name": "stdout",
     "output_type": "stream",
     "text": [
      "num of clicks in control =  1989\n",
      "num of clicks in experiment =  6116\n",
      "num of users in control =  10000\n",
      "num of users in experiment =  10000\n"
     ]
    }
   ],
   "source": [
    "X_ = df.groupby('group')['click'].sum().reset_index()\n",
    "X_con = df.groupby('group')['click'].sum().loc['con']\n",
    "X_exp = df.groupby('group')['click'].sum().loc['exp']\n",
    "print('num of clicks in control = ',X_con)\n",
    "print('num of clicks in experiment = ',X_exp)\n",
    "\n",
    "#total number per group\n",
    "N_con = df['group'].value_counts().loc['con']\n",
    "N_exp = df['group'].value_counts().loc['exp']\n",
    "print('num of users in control = ',N_con)\n",
    "print('num of users in experiment = ',N_exp)"
   ]
  },
  {
   "cell_type": "markdown",
   "id": "e1a91f19-c92b-4c84-97c6-a81d0bd90c21",
   "metadata": {},
   "source": [
    "##### Calculating pooled Estimates for clicks per group"
   ]
  },
  {
   "cell_type": "code",
   "execution_count": 75,
   "id": "401d1308-b5a6-403b-8fee-754e955b0c30",
   "metadata": {},
   "outputs": [
    {
     "name": "stdout",
     "output_type": "stream",
     "text": [
      "Click probability in Control Group:  0.1989\n",
      "Click probability in Control Group:  0.6116\n",
      "Pooled Click probability:  0.40525\n"
     ]
    }
   ],
   "source": [
    "# computing the estimates of click probability per group\n",
    "p_con_hat = X_con/N_con\n",
    "p_exp_hat = X_exp/N_exp\n",
    "print(\"Click probability in Control Group: \", p_con_hat)\n",
    "print(\"Click probability in Control Group: \", p_exp_hat)\n",
    "\n",
    "# computing the estimate of pooled clicked probability\n",
    "p_pooled_hat = (X_con+X_exp)/(N_con + N_exp)\n",
    "print(\"Pooled Click probability = \", p_pooled_hat)"
   ]
  },
  {
   "cell_type": "markdown",
   "id": "d769cb6a-f5f6-42b4-b726-e77506cc0b0a",
   "metadata": {},
   "source": [
    "##### Calculating Pooled Variance"
   ]
  },
  {
   "cell_type": "code",
   "execution_count": 76,
   "id": "0e22da37-e27f-46ff-8a95-7281aa9a5274",
   "metadata": {},
   "outputs": [
    {
     "name": "stdout",
     "output_type": "stream",
     "text": [
      "pooled variance =  4.82044875e-05\n"
     ]
    }
   ],
   "source": [
    "pooled_variance = p_pooled_hat * (1-p_pooled_hat) * (1/N_con + 1/N_exp)\n",
    "print(\"pooled variance = \", pooled_variance)"
   ]
  },
  {
   "cell_type": "markdown",
   "id": "bbeac687-5bc2-478d-adf6-c0c25645b755",
   "metadata": {},
   "source": [
    "##### Calculating Standard Error and Test Statistics"
   ]
  },
  {
   "cell_type": "code",
   "execution_count": 82,
   "id": "22b98852-9f9d-488d-88a8-bc1efbb28143",
   "metadata": {},
   "outputs": [
    {
     "name": "stdout",
     "output_type": "stream",
     "text": [
      "Standard Error =  0.006942945160376826\n",
      "Test Statistics for 2-sample Z-test =  -59.44163326469381\n",
      "Z-critical value from standard normal distribution =  1.959963984540054\n"
     ]
    }
   ],
   "source": [
    "#Standard error\n",
    "SE = np.sqrt(pooled_variance)\n",
    "print('Standard Error = ', SE)\n",
    "\n",
    "# computing the test statistics of Z-test\n",
    "test_stat = (p_con_hat - p_exp_hat)/SE\n",
    "print(\"Test Statistics for 2-sample Z-test = \", test_stat)\n",
    "\n",
    "# critical value of the Z-test\n",
    "z_crit = norm.ppf(1-alpha/2)\n",
    "print('Z-critical value from standard normal distribution = ', z_crit)"
   ]
  },
  {
   "cell_type": "markdown",
   "id": "c7522bf6-c9cd-4a94-84ad-4cfde92e7652",
   "metadata": {},
   "source": [
    "##### Calculating p-values of Z-test\n",
    "- A low p-value(p ≤ 0.05 at 5% significance level) indicates strong evidence against the null hypothesis, so we reject the null hypothesis.\n",
    "- A high p-value(p > 0.05 ) indicates weak evidence against the null hypothesis, so we fail to reject the null hypothesis."
   ]
  },
  {
   "cell_type": "code",
   "execution_count": 86,
   "id": "02b494f6-6cce-45b6-b528-eef480247654",
   "metadata": {},
   "outputs": [
    {
     "name": "stdout",
     "output_type": "stream",
     "text": [
      "p-value of 2-sample Z-test = 0.0\n",
      "There is a statistical significance, indicating that the observed difference between the groups are unlikely to have occurred by chance alone. this suggests that new feature is better\n"
     ]
    }
   ],
   "source": [
    "# calculating p-value\n",
    "p_value = 2*norm.sf(abs(test_stat))\n",
    "\n",
    "def is_statistical_significance(p_value, alpha):\n",
    "    #print the rounded p-value to 3 decimal places\n",
    "    print(f\"p-value of 2-sample Z-test = {round(p_value, 3)}\")\n",
    "\n",
    "    #determine statistical significance\n",
    "    if p_value <= alpha:\n",
    "        print('There is a statistical significance, indicating that the observed difference between the groups are unlikely to have occurred by chance alone. this suggests that new feature is better')\n",
    "    else:\n",
    "        print('There is no statistical significance, indicating that the observed difference between the groups could have to occurred by chance. this implies that the older version is better')\n",
    "\n",
    "is_statistical_significance(p_value, alpha)"
   ]
  },
  {
   "cell_type": "markdown",
   "id": "1407b02c-8f05-4fde-82f5-c02577b9550f",
   "metadata": {},
   "source": [
    "##### Calculating and plotting the confidence interval of the test "
   ]
  },
  {
   "cell_type": "code",
   "execution_count": 101,
   "id": "4520e89a-0627-4e73-9b12-3003cd60d5e2",
   "metadata": {},
   "outputs": [
    {
     "data": {
      "image/png": "[encoded data removed]",
      "text/plain": [
       "<Figure size 640x480 with 1 Axes>"
      ]
     },
     "metadata": {},
     "output_type": "display_data"
    }
   ],
   "source": [
    "mu = 0 # mean\n",
    "sigma = 1 # standard deviation\n",
    "x = np.linspace(mu - 3*sigma, mu + 3*sigma, 100)\n",
    "y = norm.pdf(x, mu, sigma)\n",
    "\n",
    "#plotting the standard normal distribution\n",
    "plt.plot(x,y, label='Standard Normal Distribution')\n",
    "\n",
    "#shade the rejection region for two-tailed test\n",
    "plt.fill_between(x,y, where=(x > z_crit) | (x < -z_crit), color='red', alpha=0.5, label='Reject Region')\n",
    "# adding test statistic\n",
    "plt.axvline(test_stat, color='green', linestyle='dashed', linewidth=2, label=f'Test Statistic = {test_stat:.2f}')\n",
    "\n",
    "#adding Z-critical values\n",
    "plt.axvline(z_crit, color='blue', linestyle='dashed', linewidth=1, label=f'Z-critical = {z_crit:.2f}')\n",
    "plt.axvline(-z_crit, color='blue', linestyle='dashed', linewidth=1)\n",
    "plt.title('Gaussian Distribution with Rejection Region \\n (A/B Testing for LunarTech CTA button)')\n",
    "plt.ylabel('Probability Density')\n",
    "plt.xlabel('Z-value')\n",
    "plt.legend()\n",
    "plt.show()"
   ]
  },
  {
   "cell_type": "code",
   "execution_count": null,
   "id": "c15e4796-a413-40e0-8109-6a3e422afa23",
   "metadata": {},
   "outputs": [],
   "source": []
  }
 ],
 "metadata": {
  "kernelspec": {
   "display_name": "Python 3 (ipykernel)",
   "language": "python",
   "name": "python3"
  },
  "language_info": {
   "codemirror_mode": {
    "name": "ipython",
    "version": 3
   },
   "file_extension": ".py",
   "mimetype": "text/x-python",
   "name": "python",
   "nbconvert_exporter": "python",
   "pygments_lexer": "ipython3",
   "version": "3.11.7"
  }
 },
 "nbformat": 4,
 "nbformat_minor": 5
}
